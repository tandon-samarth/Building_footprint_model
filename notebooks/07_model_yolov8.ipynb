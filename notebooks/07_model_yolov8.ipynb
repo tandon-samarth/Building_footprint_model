{
 "cells": [
  {
   "cell_type": "code",
   "execution_count": null,
   "metadata": {},
   "outputs": [],
   "source": [
    "import os\n",
    "from os.path import exists\n",
    "\n",
    "import pandas as pd\n",
    "from shapely import geometry\n",
    "import numpy as np\n",
    "from glob import glob \n",
    "import rasterio\n",
    "import cv2\n",
    "from tenacity import retry, stop_after_attempt\n",
    "from tqdm import tqdm \n",
    "import matplotlib.pyplot as plt\n",
    "from multiprocessing import Pool\n",
    "import urllib\n",
    "import time \n",
    "from matplotlib import pyplot as plt \n",
    "import fiona\n",
    "output_path = \"../data/test_data/\""
   ]
  },
  {
   "cell_type": "code",
   "execution_count": null,
   "metadata": {},
   "outputs": [],
   "source": [
    "from ultralyticsplus import YOLO, render_result\n",
    "\n",
    "model_name = 'keremberke/yolov8s-building-segmentation'\n",
    "# load model\n",
    "model = YOLO(model_name)\n",
    "\n",
    "# set model parameters\n",
    "model.overrides['conf'] = 0.40  # NMS confidence threshold\n",
    "model.overrides['iou'] = 0.45  # NMS IoU threshold\n",
    "model.overrides['agnostic_nms'] = False  # NMS class-agnostic\n",
    "model.overrides['max_det'] = 1000  # maximum number of detections per image"
   ]
  },
  {
   "cell_type": "markdown",
   "metadata": {},
   "source": [
    "#### Function for Sattlite Image Generation"
   ]
  },
  {
   "cell_type": "code",
   "execution_count": null,
   "metadata": {},
   "outputs": [],
   "source": [
    "@retry(stop=stop_after_attempt(3))\n",
    "def extractSatelliteImages(minX, minY, maxX, maxY, height='512', width='512'):\n",
    "    url = f\"http://wms3.mapsavvy.com/WMSService.svc/db45ac1c32ac4e9caa5ecc3473998c81/WMSLatLon?SERVICE=WMS&VERSION=1.1.1&REQUEST=GetMap&LAYERS=Aerial&SRS=EPSG:4326&CRS=EPSG:4326&BBOX={minX},{minY},{maxX},{maxY}&WIDTH={width}&HEIGHT={height}&STYLES=&TRANSPARENT=false&FORMAT=image/png\"\n",
    "    req = urllib.request.Request(url)\n",
    "    resp = urllib.request.urlopen(req)\n",
    "    arr = np.asarray(bytearray(resp.read()), dtype=np.uint8)\n",
    "    img = cv2.imdecode(arr, cv2.IMREAD_UNCHANGED)\n",
    "    return cv2.cvtColor(img, cv2.COLOR_BGR2RGB)"
   ]
  },
  {
   "cell_type": "markdown",
   "metadata": {},
   "source": [
    "#### Functions for Pix2Coordinates"
   ]
  },
  {
   "cell_type": "code",
   "execution_count": null,
   "metadata": {},
   "outputs": [],
   "source": [
    "from shapely.geometry import LineString, Polygon\n",
    "from PIL import Image\n",
    "from rasterio import features\n",
    "from collections import defaultdict\n",
    "from shapely import geometry\n",
    "# from centerline.geometry import Centerline\n",
    "from shapely.ops import linemerge\n",
    "from affine import Affine\n",
    "\n",
    "\n",
    "def extract_leads(\n",
    "    image: Image, simplify_dist: float = 0.00005, extent: tuple = None) -> defaultdict:\n",
    "    transform = (\n",
    "        rasterio.transform.from_bounds(*extent, width=image.shape[0], height=image.shape[1])\n",
    "        if extent\n",
    "        else Affine.identity()\n",
    "    )\n",
    "    shapes = features.shapes(np.array(image), transform=transform)\n",
    "    leads = defaultdict(list)\n",
    "    \n",
    "    for poly_geojson, value in shapes:\n",
    "        if value != 0:\n",
    "            poly = geometry.Polygon(poly_geojson[\"coordinates\"][0])\n",
    "            return poly \n",
    "\n",
    "def convertToTiff(img, minlat, minlong, maxlat, maxlong, height=512, width=512, imagename='sample_image',\n",
    "                    path='output', crs=\"epsg:4326\",chanenls=3,prefix=1):\n",
    "    if not os.path.isdir(path):\n",
    "        os.makedirs(path)\n",
    "\n",
    "    filename = imagename + '.tiff'\n",
    "    if os.path.isfile(filename):\n",
    "        return \n",
    "    transform = rasterio.transform.from_bounds(minlong, minlat, maxlong, maxlat, width, height)\n",
    "    with rasterio.open(os.path.join(path, filename), 'w', driver='GTiff', dtype=rasterio.uint8, count=3,\n",
    "                        width=width, height=height, transform=transform, crs=crs) as dst:\n",
    "        for index in range(chanenls):\n",
    "            dst.write(img[:, :, index], indexes=index + 1)"
   ]
  },
  {
   "cell_type": "code",
   "execution_count": null,
   "metadata": {},
   "outputs": [],
   "source": [
    "import geopandas as gpd \n",
    "import mercantile\n",
    "\n",
    "def extract_bfps_for_tile(tile_path,tile_id, crs='4326',out_path='output_data',zoom=16,img_height=1024,img_width=1024,save_img = False):\n",
    "    gdf = gpd.read_file(tile_path)\n",
    "    quad_key = os.path.basename(tile_path).split('.')[0]\n",
    "    \n",
    "    outer_bounds = gdf.total_bounds\n",
    "    spartial_index = gdf.sindex\n",
    "    tiles = mercantile.tiles(outer_bounds[0], outer_bounds[1], outer_bounds[2], outer_bounds[3], zooms=16)\n",
    "    \n",
    "    polygons = []\n",
    "    \n",
    "    for i, tile in tqdm(enumerate(tiles)):\n",
    "        val = mercantile.bounds(tile)\n",
    "        img = extractSatelliteImages(val.west, val.south, val.east, val.north,\n",
    "                                            height=str(img_height),\n",
    "                                            width=str(img_width),\n",
    "                                            )\n",
    "        resizeImg = cv2.resize(img,(650,650)) # input size for model \n",
    "        results = model.predict(resizeImg)\n",
    "        if results[0].masks:\n",
    "            if save_img:\n",
    "                convertToTiff(img, val.south,val.west,val.north,val.east,\n",
    "                            height=img_height,\n",
    "                            width=img_width,\n",
    "                            path=os.path.join(out_path,'image'),\n",
    "                            imagename='{}_{}_{}'.format(tile_id,zoom,i)\n",
    "                            )\n",
    "            for mask_img in results[0].masks.masks:\n",
    "                output_mask_np = mask_img.detach().cpu().numpy()\n",
    "                output_mask_np = cv2.resize(output_mask_np,(img_height,img_width))\n",
    "                output_mask_np[np.where(output_mask_np>0)] = 1\n",
    "                geom = extract_leads(image = output_mask_np,extent=(val[0], val[1], val[2], val[3]))\n",
    "                if geom.geom_type == \"Polygon\":\n",
    "                    polygons.append(geom)       \n",
    "            \n",
    "    df = pd.DataFrame({'quad_key':'france_city','geometry':polygons})\n",
    "    gdf = gpd.GeoDataFrame(df,geometry='geometry',crs='epsg:4326')\n",
    "    with fiona.Env(OSR_WKT_FORMAT=\"WKT2_2018\"):\n",
    "        gdf.to_file(os.path.join(output_path,f\"{quad_key}_polygons.geojson\"),driver=\"GeoJSON\")\n",
    "    # inference_gdf.to_file(f\"{output_path}/{quad_key}_Polygons.geojson\", driver=\"GeoJSON\",mode='a')\n",
    "    return 0 \n"
   ]
  },
  {
   "cell_type": "code",
   "execution_count": null,
   "metadata": {},
   "outputs": [],
   "source": [
    "# this is the name of the geography you want to retrieve. update to meet your needs\n",
    "location = 'France'\n",
    "\n",
    "dataset_links = pd.read_csv(\"https://minedbuildings.blob.core.windows.net/global-buildings/dataset-links.csv\")\n",
    "location_links = dataset_links[dataset_links.Location == location]\n",
    "print(\"Found {} links for {}\".format(len(location_links),location))"
   ]
  },
  {
   "cell_type": "markdown",
   "metadata": {},
   "source": [
    "### Test the Images with YOLOv8 Model "
   ]
  },
  {
   "cell_type": "code",
   "execution_count": null,
   "metadata": {},
   "outputs": [],
   "source": [
    "file_path = \"../data/london_city.shp\"\n",
    "df = gpd.read_file(file_path)\n",
    "\n",
    "quad_key = os.path.basename(file_path).split('.')[0]\n",
    "print(quad_key)\n",
    "df.head()"
   ]
  },
  {
   "cell_type": "code",
   "execution_count": null,
   "metadata": {},
   "outputs": [],
   "source": [
    "tile_data = glob(os.path.join(output_path+'/*.geojson'))\n",
    "\n",
    "# for tile_file in tile_data:\n",
    "tile_id = os.path.basename(file_path).split('.')[0]\n",
    "poly  = extract_bfps_for_tile(tile_path =file_path,\n",
    "                                tile_id='london_city',\n",
    "                                out_path=output_path)"
   ]
  },
  {
   "cell_type": "code",
   "execution_count": null,
   "metadata": {},
   "outputs": [],
   "source": [
    "df = pd.DataFrame({'quad_key':'london_city','geometry':poly})\n",
    "gdf = gpd.GeoDataFrame(df,geometry='geometry',crs='epsg:4326')\n",
    "with fiona.Env(OSR_WKT_FORMAT=\"WKT2_2018\"):\n",
    "    gdf.to_file(os.path.join(output_path,f\"{quad_key}_polygons.geojson\"),driver=\"GeoJSON\")"
   ]
  },
  {
   "cell_type": "code",
   "execution_count": null,
   "metadata": {},
   "outputs": [],
   "source": [
    "from plantcv import plantcv as pcv\n",
    "from shapely.geometry import LineString, Polygon\n",
    "import traceback\n",
    "\n",
    "def convertor(value, src_min, src_max, dest_min, dest_max):\n",
    "    src_range = src_max - src_min\n",
    "    dest_range = dest_max - dest_min\n",
    "    value_scaled = float(value - src_min) / float(src_range)\n",
    "    return dest_min + (value_scaled * dest_range)\n",
    "\n",
    "def coord2pix(xycoord, bbox, height, width):\n",
    "    return [convertor(xycoord[0], bbox['minx'], bbox['maxx'], 0, width), convertor(xycoord[1], bbox['miny'], bbox['maxy'] , height, 0)]\n",
    "\n",
    "\n",
    "def pix2coord(xypixel, bbox, height, width):\n",
    "    return [convertor(xypixel[0], 0, width, bbox['minx'], bbox['maxx']), convertor(xypixel[1], height, 0, bbox['miny'], bbox['maxy'])]\n",
    "\n",
    "def mercantilebbox2bbox(bbox_obj):\n",
    "    return {'maxx': bbox_obj.east, 'minx': bbox_obj.west, 'maxy': bbox_obj.north, 'miny': bbox_obj.south}\n",
    "\n",
    "def convert_pix2coord(geom, quad_key):\n",
    "    try:\n",
    "        tile = mercantile.quadkey_to_tile(quad_key)\n",
    "        bbox_obj = mercantile.bounds(tile)\n",
    "        bbox = mercantilebbox2bbox(bbox_obj)\n",
    "        print(bbox)\n",
    "        if geom.geom_type == \"LineString\":\n",
    "            geom_coords = list(geom.coords)\n",
    "            geom = LineString([pix2coord(xypixels, bbox, IMG_HEIGHT, IMG_WIDTH) for xypixels in geom_coords])\n",
    "        elif geom.geom_type == \"Polygon\":\n",
    "            geom_coords = list(geom.exterior.coords)\n",
    "            print(\"Polygon_coords : \",  geom_coords)\n",
    "            geom_coords.append(geom_coords[0])\n",
    "            geom = Polygon([pix2coord(xypixels, bbox, IMG_HEIGHT, IMG_WIDTH) for xypixels in geom_coords])\n",
    "    except:\n",
    "        traceback.print_exc()\n",
    "        geom = geom\n",
    "    return geom\n",
    "\n",
    "IMG_HEIGHT =1024\n",
    "IMG_WIDTH = 1024 \n",
    "\n",
    "for mask_img in mask.masks:\n",
    "    output_mask_np = mask_img.detach().cpu().numpy()\n",
    "    output_mask_np = cv2.resize(output_mask_np,(IMG_HEIGHT,IMG_WIDTH))\n",
    "    output_mask_np[np.where(output_mask_np>0)] = 1\n",
    "    skeleton = pcv.morphology.skeletonize(mask=output_mask_np)\n",
    "    pruned_skeleton, segmented_image, segment_objects = pcv.morphology.prune(skel_img=skeleton, size=45)\n",
    "    lines = []\n",
    "    styles = []\n",
    "    for line_object in segment_objects:\n",
    "        line_coords = line_object.squeeze()\n",
    "        if  len(line_coords.shape) < 2:\n",
    "            continue\n",
    "        line_object = LineString(line_coords)\n",
    "        line_object = convert_pix2coord(line_object, '31313321')\n",
    "        if line_object.is_valid :\n",
    "            lines.append(line_object)\n",
    "            n = 2\n",
    "            if len(line_coords)>2:\n",
    "                n = 3\n",
    "        inference_gdf = gpd.GeoDataFrame({\"label\" : styles, \"tile_id\": [quad_key] * len(styles), \"task_id\": [quad_key] * len(styles)}, geometry=lines)  "
   ]
  },
  {
   "cell_type": "code",
   "execution_count": null,
   "metadata": {},
   "outputs": [],
   "source": []
  },
  {
   "cell_type": "code",
   "execution_count": null,
   "metadata": {},
   "outputs": [],
   "source": [
    "\n"
   ]
  },
  {
   "cell_type": "code",
   "execution_count": null,
   "metadata": {},
   "outputs": [],
   "source": [
    "import os \n",
    "import numpy as np \n",
    "a = [\n",
    "    [1,2,3],\n",
    "    [3,5,6],\n",
    "    [7,8,9]\n",
    "]\n",
    "a "
   ]
  },
  {
   "cell_type": "code",
   "execution_count": null,
   "metadata": {},
   "outputs": [],
   "source": [
    "a = np.asarray(a)"
   ]
  },
  {
   "cell_type": "code",
   "execution_count": null,
   "metadata": {},
   "outputs": [],
   "source": []
  }
 ],
 "metadata": {
  "kernelspec": {
   "display_name": "pygeo",
   "language": "python",
   "name": "python3"
  },
  "language_info": {
   "codemirror_mode": {
    "name": "ipython",
    "version": 3
   },
   "file_extension": ".py",
   "mimetype": "text/x-python",
   "name": "python",
   "nbconvert_exporter": "python",
   "pygments_lexer": "ipython3",
   "version": "3.10.0"
  }
 },
 "nbformat": 4,
 "nbformat_minor": 2
}
