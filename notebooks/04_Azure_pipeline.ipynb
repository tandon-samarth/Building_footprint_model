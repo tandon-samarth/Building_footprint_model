{
 "cells": [
  {
   "cell_type": "markdown",
   "metadata": {},
   "source": [
    "# Setup configurations"
   ]
  },
  {
   "cell_type": "code",
   "execution_count": 1,
   "metadata": {},
   "outputs": [],
   "source": [
    "# Setup parameter values\n",
    "gt_input_dataset_name = \"bfp_detection_ground_truth\"\n",
    "default_data_path = \"data\"\n",
    "datastore_path = \"data\""
   ]
  },
  {
   "cell_type": "markdown",
   "metadata": {},
   "source": [
    "## Connect to AzureML workspace"
   ]
  },
  {
   "cell_type": "code",
   "execution_count": 2,
   "metadata": {},
   "outputs": [
    {
     "name": "stderr",
     "output_type": "stream",
     "text": [
      "Failure while loading azureml_run_type_providers. Failed to load entrypoint azureml.PipelineRun = azureml.pipeline.core.run:PipelineRun._from_dto with exception (azureml-core 1.47.0 (/home/tandon/anaconda3/envs/bfp-segmentation/lib/python3.8/site-packages), Requirement.parse('azureml-core~=1.17.0')).\n",
      "Failure while loading azureml_run_type_providers. Failed to load entrypoint azureml.ReusedStepRun = azureml.pipeline.core.run:StepRun._from_reused_dto with exception (azureml-core 1.47.0 (/home/tandon/anaconda3/envs/bfp-segmentation/lib/python3.8/site-packages), Requirement.parse('azureml-core~=1.17.0')).\n",
      "Failure while loading azureml_run_type_providers. Failed to load entrypoint azureml.StepRun = azureml.pipeline.core.run:StepRun._from_dto with exception (azureml-core 1.47.0 (/home/tandon/anaconda3/envs/bfp-segmentation/lib/python3.8/site-packages), Requirement.parse('azureml-core~=1.17.0')).\n",
      "Failure while loading azureml_run_type_providers. Failed to load entrypoint automl = azureml.train.automl.run:AutoMLRun._from_run_dto with exception (azureml-telemetry 1.47.0 (/home/tandon/anaconda3/envs/bfp-segmentation/lib/python3.8/site-packages), Requirement.parse('azureml-telemetry~=1.17.0')).\n",
      "Failure while loading azureml_run_type_providers. Failed to load entrypoint hyperdrive = azureml.train.hyperdrive:HyperDriveRun._from_run_dto with exception (azureml-telemetry 1.47.0 (/home/tandon/anaconda3/envs/bfp-segmentation/lib/python3.8/site-packages), Requirement.parse('azureml-telemetry~=1.17.0')).\n"
     ]
    },
    {
     "name": "stdout",
     "output_type": "stream",
     "text": [
      "Workspace poi_machine_learning_workspace loaded\n",
      "Subscprtion ID 2888fde7-9a5c-48fc-8623-84f525de174c\n"
     ]
    }
   ],
   "source": [
    "from azureml.core import Workspace\n",
    "\n",
    "ws = Workspace.from_config()\n",
    "print(\"Workspace\", ws.name, \"loaded\")\n",
    "print(\"Subscprtion ID\",ws.subscription_id)\n"
   ]
  },
  {
   "cell_type": "code",
   "execution_count": 3,
   "metadata": {},
   "outputs": [
    {
     "name": "stdout",
     "output_type": "stream",
     "text": [
      "Compute available Status Stopped\n"
     ]
    }
   ],
   "source": [
    "from azureml.core.compute import AmlCompute\n",
    "from azureml.core.compute import ComputeTarget\n",
    "import os\n",
    "compute_name = os.environ.get('AML_COMPUTE_CLUSTER_NAME', 'bfp-training')\n",
    "if compute_name in ws.compute_targets:\n",
    "    compute_target = ws.compute_targets[compute_name]\n",
    "    print(\"Compute available Status {}\".format(compute_target.get_status().state))\n",
    "else:\n",
    "    print(\"sorry no compute found !\")"
   ]
  },
  {
   "cell_type": "markdown",
   "metadata": {},
   "source": [
    "## Prepare environment"
   ]
  },
  {
   "cell_type": "code",
   "execution_count": 4,
   "metadata": {},
   "outputs": [
    {
     "name": "stderr",
     "output_type": "stream",
     "text": [
      "No Python version provided, defaulting to \"3.8.13\"\n",
      "'shared_volumes' is deprecated. Please use the azureml.core.runconfig.DockerConfiguration object instead.\n"
     ]
    },
    {
     "name": "stdout",
     "output_type": "stream",
     "text": [
      "Environment poi-bfp-detection_efficientnetb7_training registered. Version 2\n"
     ]
    }
   ],
   "source": [
    "from azureml.core import Environment\n",
    "env_name = 'poi-bfp-detection_efficientnetb7_training'\n",
    "data_preparation_env = Environment.from_conda_specification(env_name, f'./../requirements/{env_name}.yaml')\n",
    "\n",
    "# Specify a GPU base image\n",
    "# training_segmentation_env.docker.enabled = True\n",
    "data_preparation_env.docker.shared_volumes = False\n",
    "\n",
    "data_preparation_env.docker.base_image = None\n",
    "data_preparation_env.docker.base_dockerfile = \"../requirements/Dockerfile\"\n",
    "\n",
    "# register \n",
    "data_preparation_env.register(workspace=ws)\n",
    "\n",
    "data_preparation_env = Environment.get(ws, env_name)\n",
    "print('Environment', data_preparation_env.name, 'registered. Version', data_preparation_env.version)"
   ]
  },
  {
   "cell_type": "markdown",
   "metadata": {},
   "source": [
    "## Define run configuration"
   ]
  },
  {
   "cell_type": "code",
   "execution_count": 5,
   "metadata": {},
   "outputs": [],
   "source": [
    "from azureml.core.runconfig import RunConfiguration,DockerConfiguration\n",
    "docker_configuration = DockerConfiguration(use_docker=True)\n",
    "\n",
    "monitoring_run_config = RunConfiguration()\n",
    "monitoring_run_config.docker = docker_configuration\n",
    "monitoring_run_config.environment = data_preparation_env"
   ]
  },
  {
   "cell_type": "markdown",
   "metadata": {},
   "source": [
    "## Prepare compute target"
   ]
  },
  {
   "cell_type": "code",
   "execution_count": 6,
   "metadata": {},
   "outputs": [
    {
     "name": "stdout",
     "output_type": "stream",
     "text": [
      "Existing compute target bfp-training found.\n"
     ]
    }
   ],
   "source": [
    "from azureml.core.compute import ComputeTarget, AmlCompute\n",
    "from azureml.core.compute_target import ComputeTargetException\n",
    "\n",
    "compute_target_name = 'bfp-training'\n",
    "\n",
    "compute_target = AmlCompute(ws, compute_target_name)\n",
    "print(f'Existing compute target {compute_target_name} found.')"
   ]
  },
  {
   "cell_type": "markdown",
   "metadata": {},
   "source": [
    "## Register experiment"
   ]
  },
  {
   "cell_type": "code",
   "execution_count": 7,
   "metadata": {},
   "outputs": [],
   "source": [
    "from azureml.core import Experiment\n",
    "\n",
    "experiment_name = 'expr-bfp-detection_efficientnetb7_training'\n",
    "experiment = Experiment(workspace=ws, name=experiment_name)"
   ]
  },
  {
   "cell_type": "markdown",
   "metadata": {},
   "source": [
    "## Create and register Dataset"
   ]
  },
  {
   "cell_type": "code",
   "execution_count": 11,
   "metadata": {},
   "outputs": [],
   "source": [
    "from azureml.core import Datastore, Dataset\n",
    "\n",
    "datastores = Datastore.register_azure_blob_container(\n",
    "    workspace=ws,\n",
    "    datastore_name='poimachinelearning',\n",
    "    container_name='bfp-detection',\n",
    "    account_name='poimachinelearning',\n",
    "    sas_token ='?sv=2021-04-10&si=bfp-detection-184C4196D0D&sr=c&sig=ljOp7KSY0Ea0pcD%2BA6DRYuDPLY6E8GYldF0Ha1sPyeI%3D'\n",
    ")"
   ]
  },
  {
   "cell_type": "code",
   "execution_count": 12,
   "metadata": {},
   "outputs": [
    {
     "data": {
      "text/plain": [
       "{\n",
       "  \"source\": [\n",
       "    \"('poimachinelearning', 'data')\"\n",
       "  ],\n",
       "  \"definition\": [\n",
       "    \"GetDatastoreFiles\"\n",
       "  ],\n",
       "  \"registration\": {\n",
       "    \"id\": \"6da6521d-44c3-4b74-950d-977585a66569\",\n",
       "    \"name\": \"bfp_detection_ground_truth\",\n",
       "    \"version\": 2,\n",
       "    \"description\": \"Ground truth data for building footprint detection\",\n",
       "    \"workspace\": \"Workspace.create(name='poi_machine_learning_workspace', subscription_id='2888fde7-9a5c-48fc-8623-84f525de174c', resource_group='poi_datalake')\"\n",
       "  }\n",
       "}"
      ]
     },
     "execution_count": 12,
     "metadata": {},
     "output_type": "execute_result"
    }
   ],
   "source": [
    "datastore = ws.get_default_datastore()\n",
    "datastore = ws.datastores['poimachinelearning']\n",
    "datastore_paths = [(datastore,datastore_path)]\n",
    "\n",
    "input_dataset = Dataset.File.from_files(path=datastore_paths)\n",
    "input_dataset.register(workspace = ws,name = gt_input_dataset_name,\n",
    "                       description = 'Ground truth data for building footprint detection',\n",
    "                       create_new_version = True)\n"
   ]
  },
  {
   "cell_type": "markdown",
   "metadata": {},
   "source": [
    "## Get Raw Data Files "
   ]
  },
  {
   "cell_type": "code",
   "execution_count": 17,
   "metadata": {},
   "outputs": [
    {
     "name": "stdout",
     "output_type": "stream",
     "text": [
      "FileDataset\n",
      "{\n",
      "  \"source\": [\n",
      "    \"('poimachinelearning', 'data')\"\n",
      "  ],\n",
      "  \"definition\": [\n",
      "    \"GetDatastoreFiles\"\n",
      "  ],\n",
      "  \"registration\": {\n",
      "    \"id\": \"6da6521d-44c3-4b74-950d-977585a66569\",\n",
      "    \"name\": \"bfp_detection_ground_truth\",\n",
      "    \"version\": 2,\n",
      "    \"description\": \"Ground truth data for building footprint detection\",\n",
      "    \"workspace\": \"Workspace.create(name='poi_machine_learning_workspace', subscription_id='2888fde7-9a5c-48fc-8623-84f525de174c', resource_group='poi_datalake')\"\n",
      "  }\n",
      "}\n"
     ]
    }
   ],
   "source": [
    "from azureml.core import Workspace, Dataset\n",
    "\n",
    "subscription_id = '2888fde7-9a5c-48fc-8623-84f525de174c'\n",
    "resource_group = 'poi_datalake'\n",
    "workspace_name = 'poi_machine_learning_workspace'\n",
    "\n",
    "workspace = Workspace(subscription_id, resource_group, workspace_name)\n",
    "\n",
    "dataset = Dataset.get_by_name(workspace, name='bfp_detection_ground_truth')\n",
    "print(dataset)\n",
    "# dataset.download(target_path='.', overwrite=False)"
   ]
  },
  {
   "cell_type": "markdown",
   "metadata": {},
   "source": [
    "## Building the pipeline"
   ]
  },
  {
   "cell_type": "markdown",
   "metadata": {},
   "source": [
    "### Define pipeline parameters"
   ]
  },
  {
   "cell_type": "code",
   "execution_count": 22,
   "metadata": {},
   "outputs": [],
   "source": [
    "from azureml.pipeline.core.graph import PipelineParameter\n",
    "\n",
    "input_dataset = PipelineParameter(name=\"path\",default_value=gt_input_dataset_name)\n",
    "input_size = PipelineParameter(name=\"imgsize\",default_value=512)\n",
    "classes = PipelineParameter(name='classes',default_value=1)\n",
    "# model params \n",
    "epochs = PipelineParameter(name=\"epochs\",default_value=50)\n",
    "loss = PipelineParameter(name=\"loss\",default_value=\"jaccard_distance\")\n",
    "metrics = PipelineParameter(name='metrics',default_value='all')\n",
    "backbone= PipelineParameter(name='backbone',default_value='efficientnetb7')\n",
    "batch_size = PipelineParameter(name='batch_size',default_value=1)\n",
    "out_path = PipelineParameter(name='out_path',default_value='runs')\n"
   ]
  },
  {
   "cell_type": "markdown",
   "metadata": {},
   "source": [
    "## Define Pipleine Steps "
   ]
  },
  {
   "cell_type": "code",
   "execution_count": 23,
   "metadata": {},
   "outputs": [],
   "source": [
    "from azureml.pipeline.steps import PythonScriptStep\n",
    "\n",
    "bfp_detection_script_args = [\n",
    "    \"--path\", gt_input_dataset_name,\n",
    "    \"--imgsize\", input_size,\n",
    "    \"--classes\", classes,\n",
    "    \"--epochs\",epochs,\n",
    "    \"--loss\",loss,\n",
    "    \"--metrics\",metrics,\n",
    "    \"--backbone\",backbone,\n",
    "    \"--batch_size\",batch_size,\n",
    "    \"--out_path\",out_path\n",
    "]\n",
    "\n",
    "bfp_detection_training_step=PythonScriptStep(\n",
    "    name='POI Building footprint detection',\n",
    "    script_name='main.py',\n",
    "    arguments=bfp_detection_script_args,\n",
    "    compute_target=compute_target,\n",
    "    runconfig=monitoring_run_config,\n",
    "    source_directory='../scripts/'\n",
    ")"
   ]
  },
  {
   "cell_type": "markdown",
   "metadata": {},
   "source": [
    "## Create pipeline"
   ]
  },
  {
   "cell_type": "code",
   "execution_count": 24,
   "metadata": {},
   "outputs": [
    {
     "name": "stdout",
     "output_type": "stream",
     "text": [
      "Pipeline created\n"
     ]
    }
   ],
   "source": [
    "from azureml.pipeline.core import Pipeline\n",
    "\n",
    "pipeline = Pipeline(workspace=ws, steps=[bfp_detection_training_step])\n",
    "print(\"Pipeline created\")"
   ]
  },
  {
   "cell_type": "markdown",
   "metadata": {},
   "source": [
    "### Submit pipeline experiment"
   ]
  },
  {
   "cell_type": "code",
   "execution_count": 25,
   "metadata": {},
   "outputs": [
    {
     "name": "stdout",
     "output_type": "stream",
     "text": [
      "Created step POI Building footprint detection [42b191eb][3c5b1f24-bd58-4e0b-8647-99f4ec180d5b], (This step will run and generate new outputs)\n",
      "Submitted PipelineRun 2cead885-ce8a-448b-b55e-5b971fed2390\n",
      "Link to Azure Machine Learning Portal: https://ml.azure.com/runs/2cead885-ce8a-448b-b55e-5b971fed2390?wsid=/subscriptions/2888fde7-9a5c-48fc-8623-84f525de174c/resourcegroups/poi_datalake/workspaces/poi_machine_learning_workspace&tid=374f8026-7b54-4a3a-b87d-328fa26ec10d\n"
     ]
    },
    {
     "data": {
      "application/vnd.jupyter.widget-view+json": {
       "model_id": "927245ad533f447db5930412de5d256a",
       "version_major": 2,
       "version_minor": 0
      },
      "text/plain": [
       "_PipelineWidget(widget_settings={'childWidgetDisplay': 'popup', 'send_telemetry': False, 'log_level': 'INFO', …"
      ]
     },
     "metadata": {},
     "output_type": "display_data"
    },
    {
     "data": {
      "application/aml.mini.widget.v1": "\"AuthenticationException:\\n\\tMessage: Please ensure you have network connection. Error detail: HTTPSConnectionPool(host='login.microsoftonline.com', port=443): Max retries exceeded with url: /organizations/v2.0/.well-known/openid-configuration (Caused by NewConnectionError('<urllib3.connection.HTTPSConnection object at 0x7f69c04d8280>: Failed to establish a new connection: [Errno -3] Temporary failure in name resolution'))\\n\\tInnerException None\\n\\tErrorResponse \\n{\\n    \\\"error\\\": {\\n        \\\"code\\\": \\\"UserError\\\",\\n        \\\"inner_error\\\": {\\n            \\\"code\\\": \\\"Authentication\\\"\\n        },\\n        \\\"message\\\": \\\"Please ensure you have network connection. Error detail: HTTPSConnectionPool(host='login.microsoftonline.com', port=443): Max retries exceeded with url: /organizations/v2.0/.well-known/openid-configuration (Caused by NewConnectionError('<urllib3.connection.HTTPSConnection object at 0x7f69c04d8280>: Failed to establish a new connection: [Errno -3] Temporary failure in name resolution'))\\\"\\n    }\\n}\""
     },
     "metadata": {},
     "output_type": "display_data"
    },
    {
     "name": "stdout",
     "output_type": "stream",
     "text": [
      "Performing interactive authentication. Please follow the instructions on the terminal.\n",
      "Performing interactive authentication. Please follow the instructions on the terminal.\n",
      "Performing interactive authentication. Please follow the instructions on the terminal.\n",
      "Performing interactive authentication. Please follow the instructions on the terminal.\n"
     ]
    }
   ],
   "source": [
    "from azureml.widgets import RunDetails\n",
    "\n",
    "pipeline_run = experiment.submit(pipeline)\n",
    "RunDetails(pipeline_run).show()"
   ]
  },
  {
   "cell_type": "markdown",
   "metadata": {},
   "source": [
    "### Validate pipeline"
   ]
  },
  {
   "cell_type": "code",
   "execution_count": 16,
   "metadata": {},
   "outputs": [
    {
     "name": "stdout",
     "output_type": "stream",
     "text": [
      "Pipeline validation completed\n"
     ]
    }
   ],
   "source": [
    "pipeline.validate()\n",
    "print(\"Pipeline validation completed\")"
   ]
  },
  {
   "cell_type": "code",
   "execution_count": null,
   "metadata": {},
   "outputs": [],
   "source": []
  }
 ],
 "metadata": {
  "kernelspec": {
   "display_name": "Python 3.8.13 ('bfp-segmentation')",
   "language": "python",
   "name": "python3"
  },
  "language_info": {
   "codemirror_mode": {
    "name": "ipython",
    "version": 3
   },
   "file_extension": ".py",
   "mimetype": "text/x-python",
   "name": "python",
   "nbconvert_exporter": "python",
   "pygments_lexer": "ipython3",
   "version": "3.8.15"
  },
  "orig_nbformat": 4,
  "vscode": {
   "interpreter": {
    "hash": "97cf15445df533ccb439c3060c54fedbb507560891814ff3dd59d2ee67162059"
   }
  }
 },
 "nbformat": 4,
 "nbformat_minor": 2
}
