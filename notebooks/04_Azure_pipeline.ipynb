{
 "cells": [
  {
   "cell_type": "markdown",
   "metadata": {},
   "source": [
    "# Setup configurations"
   ]
  },
  {
   "cell_type": "code",
   "execution_count": 1,
   "metadata": {},
   "outputs": [],
   "source": [
    "# Setup parameter values\n",
    "gt_input_dataset_name = \"bfp_detection_ground_truth\"\n",
    "default_data_path = \"data/\"\n",
    "datastore_path = f\"data/\"\n"
   ]
  },
  {
   "cell_type": "markdown",
   "metadata": {},
   "source": [
    "## Connect to AzureML workspace"
   ]
  },
  {
   "cell_type": "code",
   "execution_count": 2,
   "metadata": {},
   "outputs": [
    {
     "name": "stderr",
     "output_type": "stream",
     "text": [
      "Failure while loading azureml_run_type_providers. Failed to load entrypoint azureml.PipelineRun = azureml.pipeline.core.run:PipelineRun._from_dto with exception (azureml-core 1.47.0 (/home/tandon/anaconda3/envs/bfp-segmentation/lib/python3.8/site-packages), Requirement.parse('azureml-core~=1.17.0')).\n",
      "Failure while loading azureml_run_type_providers. Failed to load entrypoint azureml.ReusedStepRun = azureml.pipeline.core.run:StepRun._from_reused_dto with exception (azureml-core 1.47.0 (/home/tandon/anaconda3/envs/bfp-segmentation/lib/python3.8/site-packages), Requirement.parse('azureml-core~=1.17.0')).\n",
      "Failure while loading azureml_run_type_providers. Failed to load entrypoint azureml.StepRun = azureml.pipeline.core.run:StepRun._from_dto with exception (azureml-core 1.47.0 (/home/tandon/anaconda3/envs/bfp-segmentation/lib/python3.8/site-packages), Requirement.parse('azureml-core~=1.17.0')).\n",
      "Failure while loading azureml_run_type_providers. Failed to load entrypoint automl = azureml.train.automl.run:AutoMLRun._from_run_dto with exception (azureml-telemetry 1.47.0 (/home/tandon/anaconda3/envs/bfp-segmentation/lib/python3.8/site-packages), Requirement.parse('azureml-telemetry~=1.17.0')).\n",
      "Failure while loading azureml_run_type_providers. Failed to load entrypoint hyperdrive = azureml.train.hyperdrive:HyperDriveRun._from_run_dto with exception (azureml-telemetry 1.47.0 (/home/tandon/anaconda3/envs/bfp-segmentation/lib/python3.8/site-packages), Requirement.parse('azureml-telemetry~=1.17.0')).\n"
     ]
    },
    {
     "name": "stdout",
     "output_type": "stream",
     "text": [
      "Workspace poi_machine_learning_workspace loaded\n"
     ]
    }
   ],
   "source": [
    "from azureml.core import Workspace\n",
    "\n",
    "ws = Workspace.from_config()\n",
    "print(\"Workspace\", ws.name, \"loaded\")"
   ]
  },
  {
   "cell_type": "markdown",
   "metadata": {},
   "source": [
    "## Prepare environment"
   ]
  },
  {
   "cell_type": "code",
   "execution_count": null,
   "metadata": {},
   "outputs": [],
   "source": [
    "from azureml.core import Environment\n",
    "env_name = 'poi-bfp-detection_efficientnetb7_training'\n",
    "data_preparation_env = Environment.from_conda_specification(env_name, f'./../requirements/{env_name}.yaml')\n",
    "\n",
    "# Specify a GPU base image\n",
    "# training_segmentation_env.docker.enabled = True\n",
    "data_preparation_env.docker.shared_volumes = False\n",
    "\n",
    "data_preparation_env.docker.base_image = None\n",
    "data_preparation_env.docker.base_dockerfile = \"../requirements/Dockerfile\"\n",
    "\n",
    "# register \n",
    "data_preparation_env.register(workspace=ws)\n",
    "\n",
    "data_preparation_env = Environment.get(ws, env_name)\n",
    "print('Environment', data_preparation_env.name, 'registered. Version', data_preparation_env.version)"
   ]
  },
  {
   "cell_type": "markdown",
   "metadata": {},
   "source": [
    "## Define run configuration"
   ]
  },
  {
   "cell_type": "code",
   "execution_count": null,
   "metadata": {},
   "outputs": [],
   "source": [
    "from azureml.core.runconfig import RunConfiguration,DockerConfiguration\n",
    "docker_configuration = DockerConfiguration(use_docker=True)\n",
    "\n",
    "monitoring_run_config = RunConfiguration()\n",
    "monitoring_run_config.docker = docker_configuration\n",
    "monitoring_run_config.environment = data_preparation_env"
   ]
  },
  {
   "cell_type": "markdown",
   "metadata": {},
   "source": [
    "## Prepare compute target"
   ]
  },
  {
   "cell_type": "code",
   "execution_count": null,
   "metadata": {},
   "outputs": [],
   "source": [
    "from azureml.core.compute import ComputeTarget, AmlCompute\n",
    "from azureml.core.compute_target import ComputeTargetException\n",
    "\n",
    "compute_target_name = 'Torch-computing'\n",
    "\n",
    "compute_target = AmlCompute(ws, compute_target_name)\n",
    "print(f'Existing compute target {compute_target_name} found.')"
   ]
  },
  {
   "cell_type": "markdown",
   "metadata": {},
   "source": [
    "## Register experiment"
   ]
  },
  {
   "cell_type": "code",
   "execution_count": null,
   "metadata": {},
   "outputs": [],
   "source": [
    "from azureml.core import Experiment\n",
    "\n",
    "experiment_name = 'expr-bfp-detection_efficientnetb7_training'\n",
    "experiment = Experiment(workspace=ws, name=experiment_name)"
   ]
  },
  {
   "cell_type": "markdown",
   "metadata": {},
   "source": [
    "## Create and register Dataset"
   ]
  },
  {
   "cell_type": "code",
   "execution_count": null,
   "metadata": {},
   "outputs": [],
   "source": [
    "from azureml.core import Datastore, Dataset\n",
    "\n",
    "datastores = Datastore.register_azure_blob_container(\n",
    "    workspace=ws,\n",
    "    datastore_name='poimachinelearning',\n",
    "    container_name='bfp-detection',\n",
    "    account_name='poimachinelearning',\n",
    "    account_key='p4EEQkYTnq4jkfVtyAC2iKhVwGRSP96AumqVC8YXAzxU6h3r3Ns/5L5FuKqm3R4WtxgfPyOhfC+3lGnSgimQSA==',\n",
    ")"
   ]
  },
  {
   "cell_type": "code",
   "execution_count": null,
   "metadata": {},
   "outputs": [],
   "source": [
    "# datastore = ws.get_default_datastore()\n",
    "datastore = ws.datastores['poimachinelearning']\n",
    "datastore_paths = [(datastore,datastore_path)]\n",
    "\n",
    "input_dataset = Dataset.File.from_files(path=datastore_paths)\n",
    "input_dataset.register(workspace = ws,name = gt_input_dataset_name,\n",
    "                       description = 'Ground truth data for building footprint detection',\n",
    "                       create_new_version = True)"
   ]
  },
  {
   "cell_type": "markdown",
   "metadata": {},
   "source": [
    "## Building the pipeline"
   ]
  },
  {
   "cell_type": "markdown",
   "metadata": {},
   "source": [
    "### Define pipeline parameters"
   ]
  },
  {
   "cell_type": "code",
   "execution_count": null,
   "metadata": {},
   "outputs": [],
   "source": [
    "from azureml.pipeline.core.graph import PipelineParameter\n",
    "\n",
    "input_dataset = PipelineParameter(name=\"path\",default_value=default_data_path)\n",
    "input_size = PipelineParameter(name=\"imgsize\",default_value=512)\n",
    "classes = PipelineParameter(name='classes',default_value=1)\n",
    "# model params \n",
    "epochs = PipelineParameter(name=\"epochs\",default_value=50)\n",
    "loss = PipelineParameter(name=\"loss\",default_value=\"jaccard_distance\")\n",
    "metrics = PipelineParameter(name='metrics',default_value='all')\n",
    "backbone= PipelineParameter(name='backbone',default_value='efficientnetb7')\n",
    "batch_size = PipelineParameter(name='batch_size',default_value=1)\n",
    "out_path = PipelineParameter(name='out_path',default_value='runs')\n"
   ]
  },
  {
   "cell_type": "markdown",
   "metadata": {},
   "source": [
    "## Define Pipleine Steps "
   ]
  },
  {
   "cell_type": "code",
   "execution_count": null,
   "metadata": {},
   "outputs": [],
   "source": [
    "from azureml.pipeline.steps import PythonScriptStep\n",
    "\n",
    "bfp_detection_script_args = [\n",
    "    \"--path\", input_dataset,\n",
    "    \"--imgsize\", input_size,\n",
    "    \"--classes\", classes,\n",
    "    \"--epochs\",epochs,\n",
    "    \"--loss\",loss,\n",
    "    \"--metrics\",metrics,\n",
    "    \"--backbone\",backbone,\n",
    "    \"--batch_size\",batch_size,\n",
    "    \"--out_path\",out_path\n",
    "]\n",
    "\n",
    "bfp_detection_training_step=PythonScriptStep(\n",
    "    name='POI Building footprint detection',\n",
    "    script_name='main.py',\n",
    "    arguments=bfp_detection_script_args,\n",
    "    compute_target=compute_target,\n",
    "    runconfig=monitoring_run_config,\n",
    "    source_directory='../scripts/'\n",
    ")"
   ]
  },
  {
   "cell_type": "markdown",
   "metadata": {},
   "source": [
    "## Create pipeline"
   ]
  },
  {
   "cell_type": "code",
   "execution_count": null,
   "metadata": {},
   "outputs": [],
   "source": [
    "from azureml.pipeline.core import Pipeline\n",
    "\n",
    "pipeline = Pipeline(workspace=ws, steps=[bfp_detection_training_step])\n",
    "print(\"Pipeline created\")"
   ]
  },
  {
   "cell_type": "markdown",
   "metadata": {},
   "source": [
    "### Submit pipeline experiment"
   ]
  },
  {
   "cell_type": "code",
   "execution_count": null,
   "metadata": {},
   "outputs": [],
   "source": [
    "from azureml.widgets import RunDetails\n",
    "\n",
    "pipeline_run = experiment.submit(pipeline)\n",
    "RunDetails(pipeline_run).show()"
   ]
  },
  {
   "cell_type": "markdown",
   "metadata": {},
   "source": [
    "### Validate pipeline"
   ]
  },
  {
   "cell_type": "code",
   "execution_count": null,
   "metadata": {},
   "outputs": [],
   "source": [
    "pipeline.validate()\n",
    "print(\"Pipeline validation completed\")"
   ]
  }
 ],
 "metadata": {
  "kernelspec": {
   "display_name": "Python 3.8.13 ('bfp-segmentation')",
   "language": "python",
   "name": "python3"
  },
  "language_info": {
   "codemirror_mode": {
    "name": "ipython",
    "version": 3
   },
   "file_extension": ".py",
   "mimetype": "text/x-python",
   "name": "python",
   "nbconvert_exporter": "python",
   "pygments_lexer": "ipython3",
   "version": "3.8.15"
  },
  "orig_nbformat": 4,
  "vscode": {
   "interpreter": {
    "hash": "97cf15445df533ccb439c3060c54fedbb507560891814ff3dd59d2ee67162059"
   }
  }
 },
 "nbformat": 4,
 "nbformat_minor": 2
}
