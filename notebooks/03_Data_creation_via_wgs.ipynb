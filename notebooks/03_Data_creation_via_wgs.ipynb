{
  "cells": [
    {
      "cell_type": "code",
      "execution_count": 26,
      "metadata": {
        "gather": {
          "logged": 1671009579029
        }
      },
      "outputs": [],
      "source": [
        "import os\n",
        "from os.path import exists\n",
        "\n",
        "import pandas as pd\n",
        "import geopandas as gpd\n",
        "from shapely import geometry\n",
        "import numpy as np\n",
        "import urllib\n",
        "\n",
        "import cv2\n",
        "import rasterio\n",
        "from rasterio import features as fet\n",
        "\n",
        "from tenacity import retry, stop_after_attempt\n",
        "from tqdm import tqdm \n",
        "import matplotlib.pyplot as plt\n",
        "from multiprocessing import Pool\n",
        "import mercantile\n",
        "\n",
        "from shapely.geometry import Polygon\n",
        "from rasterio.transform import Affine\n",
        "import time\n",
        "from glob import glob  \n",
        "\n",
        "from shapely.geometry import shape\n",
        "\n",
        "output_path = \"../data/test_data\""
      ]
    },
    {
      "cell_type": "code",
      "execution_count": 21,
      "metadata": {
        "gather": {
          "logged": 1671009253114
        },
        "jupyter": {
          "outputs_hidden": false,
          "source_hidden": false
        },
        "nteract": {
          "transient": {
            "deleting": false
          }
        }
      },
      "outputs": [],
      "source": [
        "def create_data_for_county(tile_path,tile_id, crs='4326',out_path='output_data',zoom=16,img_height=1024,img_width=1024,n_buildings=1):\n",
        "    gdf = gpd.read_file(tile_path)\n",
        "    outer_bounds = gdf.total_bounds\n",
        "    spartial_index = gdf.sindex\n",
        "    tiles = mercantile.tiles(outer_bounds[0], outer_bounds[1], outer_bounds[2], outer_bounds[3], zooms=16)\n",
        "    for i, tile in tqdm(enumerate(tiles)):\n",
        "        val = mercantile.bounds(tile)\n",
        "        \n",
        "        img = extractSatelliteImages(val.west, val.south, val.east, val.north,\n",
        "                                            height=str(img_height),\n",
        "                                            width=str(img_width),\n",
        "                                            )\n",
        "        polygon = Polygon(\n",
        "                [(val.west, val.south), (val.west, val.north), (val.east, val.north), (val.east, val.south),\n",
        "                 (val.west, val.south)])\n",
        "        \n",
        "        possible_matches_index = list(spartial_index.intersection(polygon.bounds))\n",
        "        possible_matches = gdf.iloc[possible_matches_index]\n",
        "        \n",
        "        if possible_matches.empty:\n",
        "            continue\n",
        "        elif len(possible_matches)>n_buildings:\n",
        "            convertToTiff(img, val.south,val.west,val.north,val.east,\n",
        "                                height=img_height,\n",
        "                                width=img_width,\n",
        "                                path=os.path.join(out_path,'images'),\n",
        "                                imagename='{}_{}_{}'.format(tile_id,zoom,i)\n",
        "                                )\n",
        "\n",
        "\n",
        "def convertToTiff(img, minlat, minlong, maxlat, maxlong, height=512, width=512, imagename='sample_image',\n",
        "                    path='output', crs=\"epsg:4326\",chanenls=3,prefix=1):\n",
        "    if not os.path.isdir(path):\n",
        "        os.makedirs(path)\n",
        "\n",
        "    filename = imagename + '.tiff'\n",
        "    if os.path.isfile(filename):\n",
        "        return \n",
        "    transform = rasterio.transform.from_bounds(minlong, minlat, maxlong, maxlat, width, height)\n",
        "    with rasterio.open(os.path.join(path, filename), 'w', driver='GTiff', dtype=rasterio.uint8, count=3,\n",
        "                        width=width, height=height, transform=transform, crs=crs) as dst:\n",
        "        for index in range(chanenls):\n",
        "            dst.write(img[:, :, index], indexes=index + 1)\n",
        "\n",
        "@retry(stop=stop_after_attempt(3))\n",
        "def extractSatelliteImages(minX, minY, maxX, maxY, height='512', width='512'):\n",
        "    url = f\"http://wms3.mapsavvy.com/WMSService.svc/db45ac1c32ac4e9caa5ecc3473998c81/WMSLatLon?SERVICE=WMS&VERSION=1.1.1&REQUEST=GetMap&LAYERS=Aerial&SRS=EPSG:4326&CRS=EPSG:4326&BBOX={minX},{minY},{maxX},{maxY}&WIDTH={width}&HEIGHT={height}&STYLES=&TRANSPARENT=false&FORMAT=image/png\"\n",
        "    req = urllib.request.Request(url)\n",
        "    resp = urllib.request.urlopen(req)\n",
        "    arr = np.asarray(bytearray(resp.read()), dtype=np.uint8)\n",
        "    img = cv2.imdecode(arr, cv2.IMREAD_UNCHANGED)\n",
        "    return cv2.cvtColor(img, cv2.COLOR_BGR2RGB)"
      ]
    },
    {
      "cell_type": "code",
      "execution_count": 22,
      "metadata": {
        "gather": {
          "logged": 1671008820581
        },
        "jupyter": {
          "outputs_hidden": false,
          "source_hidden": false
        },
        "nteract": {
          "transient": {
            "deleting": false
          }
        }
      },
      "outputs": [
        {
          "name": "stdout",
          "output_type": "stream",
          "text": [
            "Found 188 links for Germany\n"
          ]
        }
      ],
      "source": [
        "# this is the name of the geography you want to retrieve. update to meet your needs\n",
        "location = 'Germany'\n",
        "\n",
        "dataset_links = pd.read_csv(\"https://minedbuildings.blob.core.windows.net/global-buildings/dataset-links.csv\")\n",
        "location_links = dataset_links[dataset_links.Location == location]\n",
        "print(\"Found {} links for {}\".format(len(location_links),location))"
      ]
    },
    {
      "cell_type": "code",
      "execution_count": 24,
      "metadata": {
        "gather": {
          "logged": 1671009718568
        },
        "jupyter": {
          "outputs_hidden": false,
          "source_hidden": false
        },
        "nteract": {
          "transient": {
            "deleting": false
          }
        }
      },
      "outputs": [],
      "source": [
        "import fiona \n",
        "for _, row in location_links.iterrows():\n",
        "    df = pd.read_json(row.Url, lines=True)\n",
        "    df['geometry'] = df['geometry'].apply(shape)\n",
        "    gdf = gpd.GeoDataFrame(df, crs=4326,geometry='geometry')\n",
        "    # gdf.to_file(f\"{row.QuadKey}.geojson\", driver=\"GeoJSON\")\n",
        "    with fiona.Env(OSR_WKT_FORMAT=\"WKT2_2018\"):\n",
        "        gdf.to_file(os.path.join(output_path,f\"{row.QuadKey}.geojson\"),driver=\"GeoJSON\")\n",
        "    break"
      ]
    },
    {
      "cell_type": "code",
      "execution_count": 27,
      "metadata": {},
      "outputs": [
        {
          "name": "stdout",
          "output_type": "stream",
          "text": [
            "Found 1 geojson files\n"
          ]
        }
      ],
      "source": [
        "geodata_files = glob(output_path+'*/*.geojson')\n",
        "print(\"Found {} geojson files\".format(len(geodata_files)))\n",
        "\n",
        "for geojson in geodata_files:\n",
        "    create_data_for_county(tile_path =geojson,tile_id=\"120201013\",out_path=output_path)"
      ]
    },
    {
      "cell_type": "code",
      "execution_count": null,
      "metadata": {},
      "outputs": [],
      "source": []
    }
  ],
  "metadata": {
    "kernel_info": {
      "name": "python38-azureml-pt-tf"
    },
    "kernelspec": {
      "display_name": "pygeo",
      "language": "python",
      "name": "python3"
    },
    "language_info": {
      "codemirror_mode": {
        "name": "ipython",
        "version": 3
      },
      "file_extension": ".py",
      "mimetype": "text/x-python",
      "name": "python",
      "nbconvert_exporter": "python",
      "pygments_lexer": "ipython3",
      "version": "3.8.13"
    },
    "microsoft": {
      "host": {
        "AzureML": {
          "notebookHasBeenCompleted": true
        }
      }
    },
    "nteract": {
      "version": "nteract-front-end@1.0.0"
    }
  },
  "nbformat": 4,
  "nbformat_minor": 2
}
