{
  "cells": [
    {
      "cell_type": "code",
      "source": [
        "import geopandas as gpd\r\n",
        "from shapely import geometry\r\n",
        "import numpy as np\r\n",
        "import urllib\r\n",
        "import cv2\r\n",
        "import rasterio\r\n",
        "import os\r\n",
        "from os.path import exists\r\n",
        "\r\n",
        "import matplotlib.pyplot as plt\r\n",
        "from multiprocessing import Pool\r\n",
        "import mercantile\r\n",
        "from tenacity import retry, stop_after_attempt\r\n"
      ],
      "outputs": [],
      "execution_count": 54,
      "metadata": {
        "gather": {
          "logged": 1671009579029
        }
      }
    },
    {
      "cell_type": "code",
      "source": [
        "geojson_path = '../us-county-boundaries.geojson'\r\n",
        "gdf = gpd.read_file(geojson_path, crs=4326)\r\n",
        "gdf.head()"
      ],
      "outputs": [
        {
          "output_type": "execute_result",
          "execution_count": 42,
          "data": {
            "text/plain": "      intptlat countyfp_nozero  countyns stusab csafp   state_name  \\\n0  +41.8060534               3  00212338     CT   278  Connecticut   \n\n        aland  geoid         namelsad countyfp    awater classfp lsad  \\\n0  1903543898  09003  Hartford County      003  40543777      H4   06   \n\n       name funcstat cbsafp      intptlon statefp  mtfcc  \\\n0  Hartford        N  25540  -072.7329157      09  G4020   \n\n                                            geometry  \n0  POLYGON ((-72.94902 41.80643, -72.94894 41.806...  ",
            "text/html": "<div>\n<style scoped>\n    .dataframe tbody tr th:only-of-type {\n        vertical-align: middle;\n    }\n\n    .dataframe tbody tr th {\n        vertical-align: top;\n    }\n\n    .dataframe thead th {\n        text-align: right;\n    }\n</style>\n<table border=\"1\" class=\"dataframe\">\n  <thead>\n    <tr style=\"text-align: right;\">\n      <th></th>\n      <th>intptlat</th>\n      <th>countyfp_nozero</th>\n      <th>countyns</th>\n      <th>stusab</th>\n      <th>csafp</th>\n      <th>state_name</th>\n      <th>aland</th>\n      <th>geoid</th>\n      <th>namelsad</th>\n      <th>countyfp</th>\n      <th>awater</th>\n      <th>classfp</th>\n      <th>lsad</th>\n      <th>name</th>\n      <th>funcstat</th>\n      <th>cbsafp</th>\n      <th>intptlon</th>\n      <th>statefp</th>\n      <th>mtfcc</th>\n      <th>geometry</th>\n    </tr>\n  </thead>\n  <tbody>\n    <tr>\n      <th>0</th>\n      <td>+41.8060534</td>\n      <td>3</td>\n      <td>00212338</td>\n      <td>CT</td>\n      <td>278</td>\n      <td>Connecticut</td>\n      <td>1903543898</td>\n      <td>09003</td>\n      <td>Hartford County</td>\n      <td>003</td>\n      <td>40543777</td>\n      <td>H4</td>\n      <td>06</td>\n      <td>Hartford</td>\n      <td>N</td>\n      <td>25540</td>\n      <td>-072.7329157</td>\n      <td>09</td>\n      <td>G4020</td>\n      <td>POLYGON ((-72.94902 41.80643, -72.94894 41.806...</td>\n    </tr>\n  </tbody>\n</table>\n</div>"
          },
          "metadata": {}
        }
      ],
      "execution_count": 42,
      "metadata": {
        "jupyter": {
          "source_hidden": false,
          "outputs_hidden": false
        },
        "nteract": {
          "transient": {
            "deleting": false
          }
        },
        "gather": {
          "logged": 1671009253114
        }
      }
    },
    {
      "cell_type": "code",
      "source": [
        "bounds = gdf.geometry.loc[0].bounds\r\n",
        "bounds"
      ],
      "outputs": [
        {
          "output_type": "execute_result",
          "execution_count": 27,
          "data": {
            "text/plain": "(-73.029537, 41.544725, -72.407874, 42.038785)"
          },
          "metadata": {}
        }
      ],
      "execution_count": 27,
      "metadata": {
        "jupyter": {
          "source_hidden": false,
          "outputs_hidden": false
        },
        "nteract": {
          "transient": {
            "deleting": false
          }
        },
        "gather": {
          "logged": 1671008820581
        }
      }
    },
    {
      "cell_type": "code",
      "source": [
        "@retry(stop=stop_after_attempt(3))\r\n",
        "def extractSatelliteImages(minX,minY,maxX,maxY,height='512',width='512'):\r\n",
        "\r\n",
        "    url = f\"http://wms3.mapsavvy.com/WMSService.svc/db45ac1c32ac4e9caa5ecc3473998c81/WMSLatLon?SERVICE=WMS&VERSION=1.1.1&REQUEST=GetMap&LAYERS=Aerial&SRS=EPSG:4326&CRS=EPSG:4326&BBOX={minX},{minY},{maxX},{maxY}&WIDTH={width}&HEIGHT={height}&STYLES=&TRANSPARENT=false&FORMAT=image/png\"\r\n",
        "    req = urllib.request.Request(url)\r\n",
        "    resp = urllib.request.urlopen(req)\r\n",
        "    arr = np.asarray(bytearray(resp.read()), dtype=np.uint8)\r\n",
        "    img = cv2.imdecode(arr, cv2.IMREAD_UNCHANGED)\r\n",
        "    return cv2.cvtColor(img, cv2.COLOR_BGR2RGB)\r\n",
        "\r\n",
        "def convertToTiff(img, minlat,minlong,maxlat,maxlong,height=512,width=512,imagename='sample_image',path=None, crs=\"epsg:4326\"):\r\n",
        "    filename = imagename + '.tiff'\r\n",
        "\r\n",
        "    transform = rasterio.transform.from_bounds(minlong, minlat, maxlong, maxlat, width, height)\r\n",
        "\r\n",
        "    with rasterio.open(os.path.join(path, filename), 'w', driver='GTiff', dtype=rasterio.uint8, count=3, width=width, height=height, transform=transform, crs=crs) as dst:\r\n",
        "        for index in range(3):\r\n",
        "            dst.write(img[:,:,index], indexes=index + 1)\r\n",
        "\r\n",
        "\r\n",
        "tiles = mercantile.tiles(bounds[0],bounds[1],bounds[2],bounds[3],zooms=17)\r\n",
        "for t in tiles :\r\n",
        "    val = mercantile.bounds(t)\r\n",
        "    print(val.west,val.south,val.east,val.north)\r\n",
        "    img = extractSatelliteImages(val.west,val.south,val.east,val.north)\r\n",
        "    img = convertToTiff(img,val.west,val.south,val.east,val.north,path='../data')\r\n",
        "    break"
      ],
      "outputs": [
        {
          "output_type": "stream",
          "name": "stdout",
          "text": "-73.0316162109375 42.0370543018838 -73.02886962890625 42.039094188385945\n"
        }
      ],
      "execution_count": 56,
      "metadata": {
        "jupyter": {
          "source_hidden": false,
          "outputs_hidden": false
        },
        "nteract": {
          "transient": {
            "deleting": false
          }
        },
        "gather": {
          "logged": 1671009718568
        }
      }
    },
    {
      "cell_type": "code",
      "source": [],
      "outputs": [],
      "execution_count": 43,
      "metadata": {
        "jupyter": {
          "source_hidden": false,
          "outputs_hidden": false
        },
        "nteract": {
          "transient": {
            "deleting": false
          }
        },
        "gather": {
          "logged": 1671009257000
        }
      }
    },
    {
      "cell_type": "code",
      "source": [
        "for t in tiles:\r\n",
        "    print(t)"
      ],
      "outputs": [],
      "execution_count": 15,
      "metadata": {
        "jupyter": {
          "source_hidden": false,
          "outputs_hidden": false
        },
        "nteract": {
          "transient": {
            "deleting": false
          }
        },
        "gather": {
          "logged": 1671008347528
        }
      }
    },
    {
      "cell_type": "code",
      "source": [],
      "outputs": [],
      "execution_count": null,
      "metadata": {
        "jupyter": {
          "source_hidden": false,
          "outputs_hidden": false
        },
        "nteract": {
          "transient": {
            "deleting": false
          }
        }
      }
    }
  ],
  "metadata": {
    "kernelspec": {
      "name": "python38-azureml-pt-tf",
      "language": "python",
      "display_name": "Python 3.8 - Pytorch and Tensorflow"
    },
    "language_info": {
      "name": "python",
      "version": "3.8.5",
      "mimetype": "text/x-python",
      "codemirror_mode": {
        "name": "ipython",
        "version": 3
      },
      "pygments_lexer": "ipython3",
      "nbconvert_exporter": "python",
      "file_extension": ".py"
    },
    "kernel_info": {
      "name": "python38-azureml-pt-tf"
    },
    "microsoft": {
      "host": {
        "AzureML": {
          "notebookHasBeenCompleted": true
        }
      }
    },
    "nteract": {
      "version": "nteract-front-end@1.0.0"
    }
  },
  "nbformat": 4,
  "nbformat_minor": 2
}